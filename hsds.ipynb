{
 "cells": [
  {
   "cell_type": "markdown",
   "metadata": {},
   "source": [
    "# process to extract lbth from ldn data\n",
    "> this reduces the size of the file for loading into power bi, as well as stacking consecutive years of data"
   ]
  },
  {
   "cell_type": "code",
   "execution_count": 1,
   "metadata": {},
   "outputs": [],
   "source": [
    "import polars as pl"
   ]
  },
  {
   "cell_type": "code",
   "execution_count": 8,
   "metadata": {},
   "outputs": [],
   "source": [
    "# DATA LOCATION\n",
    "# ASSUMES SYNC FROM SHAREPOINT TO LOCAL FILESYSTEM\n",
    "project_dir = \"~/Tower Hamlets Council/Centre for Data Analytics - Files/high-streets-data-service\""
   ]
  },
  {
   "cell_type": "code",
   "execution_count": 9,
   "metadata": {},
   "outputs": [],
   "source": [
    "# LOOKUP TABLE\n",
    "q = (\n",
    "    pl.scan_csv(\n",
    "        f\"{project_dir}/footfall-counts-bt/Hex350_grid_HS_TC_BID_CAZ_Borough_lookup.csv\")\n",
    "    .filter(pl.col(\"borough_name\") == 'Tower Hamlets')\n",
    ")\n",
    "\n",
    "df = q.collect()\n"
   ]
  },
  {
   "cell_type": "code",
   "execution_count": 10,
   "metadata": {},
   "outputs": [],
   "source": [
    "# 2022 DATA\n",
    "q = (\n",
    "    pl.scan_csv(\n",
    "        f\"{project_dir}/footfall-counts-bt/hex_3hourly_counts_2022.csv\")\n",
    "    .filter(pl.col(\"hex_id\").is_in(df['Hex_ID'].to_list()))\n",
    ")\n",
    "\n",
    "hexes_2022 = q.collect()\n"
   ]
  },
  {
   "cell_type": "code",
   "execution_count": 11,
   "metadata": {},
   "outputs": [
    {
     "data": {
      "text/html": [
       "<div><style>\n",
       ".dataframe > thead > tr > th,\n",
       ".dataframe > tbody > tr > td {\n",
       "  text-align: right;\n",
       "  white-space: pre-wrap;\n",
       "}\n",
       "</style>\n",
       "<small>shape: (9, 10)</small><table border=\"1\" class=\"dataframe\"><thead><tr><th>describe</th><th>hex_id</th><th>count_date</th><th>day</th><th>time_indicator</th><th>resident</th><th>visitor</th><th>worker</th><th>loyalty_percentage</th><th>dwell_time</th></tr><tr><td>str</td><td>f64</td><td>str</td><td>str</td><td>str</td><td>f64</td><td>f64</td><td>f64</td><td>f64</td><td>f64</td></tr></thead><tbody><tr><td>&quot;count&quot;</td><td>394843.0</td><td>&quot;394843&quot;</td><td>&quot;394843&quot;</td><td>&quot;394843&quot;</td><td>394843.0</td><td>394843.0</td><td>394843.0</td><td>394843.0</td><td>394843.0</td></tr><tr><td>&quot;null_count&quot;</td><td>0.0</td><td>&quot;0&quot;</td><td>&quot;0&quot;</td><td>&quot;0&quot;</td><td>9284.0</td><td>30754.0</td><td>29341.0</td><td>7995.0</td><td>68.0</td></tr><tr><td>&quot;mean&quot;</td><td>1.1707e7</td><td>null</td><td>null</td><td>null</td><td>878.696407</td><td>493.100445</td><td>257.12786</td><td>5.832381</td><td>94.584306</td></tr><tr><td>&quot;std&quot;</td><td>48655.286222</td><td>null</td><td>null</td><td>null</td><td>491.621453</td><td>713.051386</td><td>725.702805</td><td>5.141561</td><td>25.765382</td></tr><tr><td>&quot;min&quot;</td><td>1.1611239e7</td><td>&quot;2022-05-01&quot;</td><td>&quot;Fri&quot;</td><td>&quot;00-03&quot;</td><td>10.0</td><td>0.0</td><td>10.0</td><td>0.0</td><td>11.25</td></tr><tr><td>&quot;25%&quot;</td><td>1.1661254e7</td><td>null</td><td>null</td><td>null</td><td>533.0</td><td>186.0</td><td>51.0</td><td>2.15</td><td>75.44</td></tr><tr><td>&quot;50%&quot;</td><td>1.1711259e7</td><td>null</td><td>null</td><td>null</td><td>853.0</td><td>306.0</td><td>96.0</td><td>4.6</td><td>91.2</td></tr><tr><td>&quot;75%&quot;</td><td>1.174126e7</td><td>null</td><td>null</td><td>null</td><td>1195.0</td><td>524.0</td><td>201.0</td><td>8.03</td><td>113.46</td></tr><tr><td>&quot;max&quot;</td><td>1.1801242e7</td><td>&quot;2022-12-31&quot;</td><td>&quot;Wed&quot;</td><td>&quot;21-24&quot;</td><td>3718.0</td><td>38614.0</td><td>19576.0</td><td>75.0</td><td>175.65</td></tr></tbody></table></div>"
      ],
      "text/plain": [
       "shape: (9, 10)\n",
       "┌────────────┬────────────┬───────────┬────────┬───┬───────────┬───────────┬───────────┬───────────┐\n",
       "│ describe   ┆ hex_id     ┆ count_dat ┆ day    ┆ … ┆ visitor   ┆ worker    ┆ loyalty_p ┆ dwell_tim │\n",
       "│ ---        ┆ ---        ┆ e         ┆ ---    ┆   ┆ ---       ┆ ---       ┆ ercentage ┆ e         │\n",
       "│ str        ┆ f64        ┆ ---       ┆ str    ┆   ┆ f64       ┆ f64       ┆ ---       ┆ ---       │\n",
       "│            ┆            ┆ str       ┆        ┆   ┆           ┆           ┆ f64       ┆ f64       │\n",
       "╞════════════╪════════════╪═══════════╪════════╪═══╪═══════════╪═══════════╪═══════════╪═══════════╡\n",
       "│ count      ┆ 394843.0   ┆ 394843    ┆ 394843 ┆ … ┆ 394843.0  ┆ 394843.0  ┆ 394843.0  ┆ 394843.0  │\n",
       "│ null_count ┆ 0.0        ┆ 0         ┆ 0      ┆ … ┆ 30754.0   ┆ 29341.0   ┆ 7995.0    ┆ 68.0      │\n",
       "│ mean       ┆ 1.1707e7   ┆ null      ┆ null   ┆ … ┆ 493.10044 ┆ 257.12786 ┆ 5.832381  ┆ 94.584306 │\n",
       "│            ┆            ┆           ┆        ┆   ┆ 5         ┆           ┆           ┆           │\n",
       "│ std        ┆ 48655.2862 ┆ null      ┆ null   ┆ … ┆ 713.05138 ┆ 725.70280 ┆ 5.141561  ┆ 25.765382 │\n",
       "│            ┆ 22         ┆           ┆        ┆   ┆ 6         ┆ 5         ┆           ┆           │\n",
       "│ min        ┆ 1.1611239e ┆ 2022-05-0 ┆ Fri    ┆ … ┆ 0.0       ┆ 10.0      ┆ 0.0       ┆ 11.25     │\n",
       "│            ┆ 7          ┆ 1         ┆        ┆   ┆           ┆           ┆           ┆           │\n",
       "│ 25%        ┆ 1.1661254e ┆ null      ┆ null   ┆ … ┆ 186.0     ┆ 51.0      ┆ 2.15      ┆ 75.44     │\n",
       "│            ┆ 7          ┆           ┆        ┆   ┆           ┆           ┆           ┆           │\n",
       "│ 50%        ┆ 1.1711259e ┆ null      ┆ null   ┆ … ┆ 306.0     ┆ 96.0      ┆ 4.6       ┆ 91.2      │\n",
       "│            ┆ 7          ┆           ┆        ┆   ┆           ┆           ┆           ┆           │\n",
       "│ 75%        ┆ 1.174126e7 ┆ null      ┆ null   ┆ … ┆ 524.0     ┆ 201.0     ┆ 8.03      ┆ 113.46    │\n",
       "│ max        ┆ 1.1801242e ┆ 2022-12-3 ┆ Wed    ┆ … ┆ 38614.0   ┆ 19576.0   ┆ 75.0      ┆ 175.65    │\n",
       "│            ┆ 7          ┆ 1         ┆        ┆   ┆           ┆           ┆           ┆           │\n",
       "└────────────┴────────────┴───────────┴────────┴───┴───────────┴───────────┴───────────┴───────────┘"
      ]
     },
     "execution_count": 11,
     "metadata": {},
     "output_type": "execute_result"
    }
   ],
   "source": [
    "hexes_2022.describe()\n"
   ]
  },
  {
   "cell_type": "code",
   "execution_count": 16,
   "metadata": {},
   "outputs": [],
   "source": [
    "# 2023 DATA\n",
    "q = (\n",
    "    pl.scan_csv(\n",
    "        f\"{project_dir}/footfall-counts-bt/hex_3hourly_counts_2023.csv\")\n",
    "    .filter(pl.col(\"hex_id\").is_in(df['Hex_ID'].to_list()))\n",
    ")\n",
    "\n",
    "hexes_2023 = q.collect()\n"
   ]
  },
  {
   "cell_type": "code",
   "execution_count": 17,
   "metadata": {},
   "outputs": [
    {
     "data": {
      "text/html": [
       "<div><style>\n",
       ".dataframe > thead > tr > th,\n",
       ".dataframe > tbody > tr > td {\n",
       "  text-align: right;\n",
       "  white-space: pre-wrap;\n",
       "}\n",
       "</style>\n",
       "<small>shape: (9, 10)</small><table border=\"1\" class=\"dataframe\"><thead><tr><th>describe</th><th>hex_id</th><th>count_date</th><th>day</th><th>time_indicator</th><th>resident</th><th>visitor</th><th>worker</th><th>loyalty_percentage</th><th>dwell_time</th></tr><tr><td>str</td><td>f64</td><td>str</td><td>str</td><td>str</td><td>f64</td><td>str</td><td>f64</td><td>str</td><td>f64</td></tr></thead><tbody><tr><td>&quot;count&quot;</td><td>395925.0</td><td>&quot;395925&quot;</td><td>&quot;395925&quot;</td><td>&quot;395925&quot;</td><td>395925.0</td><td>&quot;395925&quot;</td><td>395925.0</td><td>&quot;395925&quot;</td><td>395925.0</td></tr><tr><td>&quot;null_count&quot;</td><td>0.0</td><td>&quot;0&quot;</td><td>&quot;0&quot;</td><td>&quot;0&quot;</td><td>6814.0</td><td>&quot;29706&quot;</td><td>29258.0</td><td>&quot;19634&quot;</td><td>45.0</td></tr><tr><td>&quot;mean&quot;</td><td>1.1707e7</td><td>null</td><td>null</td><td>null</td><td>906.634194</td><td>null</td><td>266.033649</td><td>null</td><td>88.447101</td></tr><tr><td>&quot;std&quot;</td><td>48654.615448</td><td>null</td><td>null</td><td>null</td><td>517.972728</td><td>null</td><td>721.361615</td><td>null</td><td>23.908382</td></tr><tr><td>&quot;min&quot;</td><td>1.1611239e7</td><td>&quot;2023-01-01&quot;</td><td>&quot;Fri&quot;</td><td>&quot;00-03&quot;</td><td>9.0</td><td>&quot;-2.0&quot;</td><td>10.0</td><td>&quot;0.0&quot;</td><td>12.0</td></tr><tr><td>&quot;25%&quot;</td><td>1.1661254e7</td><td>null</td><td>null</td><td>null</td><td>536.0</td><td>null</td><td>52.0</td><td>null</td><td>70.57</td></tr><tr><td>&quot;50%&quot;</td><td>1.1711261e7</td><td>null</td><td>null</td><td>null</td><td>873.0</td><td>null</td><td>96.0</td><td>null</td><td>85.52</td></tr><tr><td>&quot;75%&quot;</td><td>1.174126e7</td><td>null</td><td>null</td><td>null</td><td>1231.0</td><td>null</td><td>204.0</td><td>null</td><td>105.9</td></tr><tr><td>&quot;max&quot;</td><td>1.1801242e7</td><td>&quot;2023-08-30&quot;</td><td>&quot;Wed&quot;</td><td>&quot;21-24&quot;</td><td>3787.0</td><td>&quot;9995.0&quot;</td><td>14531.0</td><td>&quot;9.99&quot;</td><td>180.0</td></tr></tbody></table></div>"
      ],
      "text/plain": [
       "shape: (9, 10)\n",
       "┌────────────┬────────────┬────────────┬────────┬───┬─────────┬────────────┬───────────┬───────────┐\n",
       "│ describe   ┆ hex_id     ┆ count_date ┆ day    ┆ … ┆ visitor ┆ worker     ┆ loyalty_p ┆ dwell_tim │\n",
       "│ ---        ┆ ---        ┆ ---        ┆ ---    ┆   ┆ ---     ┆ ---        ┆ ercentage ┆ e         │\n",
       "│ str        ┆ f64        ┆ str        ┆ str    ┆   ┆ str     ┆ f64        ┆ ---       ┆ ---       │\n",
       "│            ┆            ┆            ┆        ┆   ┆         ┆            ┆ str       ┆ f64       │\n",
       "╞════════════╪════════════╪════════════╪════════╪═══╪═════════╪════════════╪═══════════╪═══════════╡\n",
       "│ count      ┆ 395925.0   ┆ 395925     ┆ 395925 ┆ … ┆ 395925  ┆ 395925.0   ┆ 395925    ┆ 395925.0  │\n",
       "│ null_count ┆ 0.0        ┆ 0          ┆ 0      ┆ … ┆ 29706   ┆ 29258.0    ┆ 19634     ┆ 45.0      │\n",
       "│ mean       ┆ 1.1707e7   ┆ null       ┆ null   ┆ … ┆ null    ┆ 266.033649 ┆ null      ┆ 88.447101 │\n",
       "│ std        ┆ 48654.6154 ┆ null       ┆ null   ┆ … ┆ null    ┆ 721.361615 ┆ null      ┆ 23.908382 │\n",
       "│            ┆ 48         ┆            ┆        ┆   ┆         ┆            ┆           ┆           │\n",
       "│ min        ┆ 1.1611239e ┆ 2023-01-01 ┆ Fri    ┆ … ┆ -2.0    ┆ 10.0       ┆ 0.0       ┆ 12.0      │\n",
       "│            ┆ 7          ┆            ┆        ┆   ┆         ┆            ┆           ┆           │\n",
       "│ 25%        ┆ 1.1661254e ┆ null       ┆ null   ┆ … ┆ null    ┆ 52.0       ┆ null      ┆ 70.57     │\n",
       "│            ┆ 7          ┆            ┆        ┆   ┆         ┆            ┆           ┆           │\n",
       "│ 50%        ┆ 1.1711261e ┆ null       ┆ null   ┆ … ┆ null    ┆ 96.0       ┆ null      ┆ 85.52     │\n",
       "│            ┆ 7          ┆            ┆        ┆   ┆         ┆            ┆           ┆           │\n",
       "│ 75%        ┆ 1.174126e7 ┆ null       ┆ null   ┆ … ┆ null    ┆ 204.0      ┆ null      ┆ 105.9     │\n",
       "│ max        ┆ 1.1801242e ┆ 2023-08-30 ┆ Wed    ┆ … ┆ 9995.0  ┆ 14531.0    ┆ 9.99      ┆ 180.0     │\n",
       "│            ┆ 7          ┆            ┆        ┆   ┆         ┆            ┆           ┆           │\n",
       "└────────────┴────────────┴────────────┴────────┴───┴─────────┴────────────┴───────────┴───────────┘"
      ]
     },
     "execution_count": 17,
     "metadata": {},
     "output_type": "execute_result"
    }
   ],
   "source": [
    "hexes_2023.describe()\n"
   ]
  },
  {
   "cell_type": "code",
   "execution_count": 18,
   "metadata": {},
   "outputs": [],
   "source": [
    "hexes_2023 = hexes_2023.cast(\n",
    "    {\"visitor\": pl.Float64, \"loyalty_percentage\": pl.Float64})\n"
   ]
  },
  {
   "cell_type": "code",
   "execution_count": 8,
   "metadata": {},
   "outputs": [
    {
     "data": {
      "text/html": [
       "<div><style>\n",
       ".dataframe > thead > tr > th,\n",
       ".dataframe > tbody > tr > td {\n",
       "  text-align: right;\n",
       "  white-space: pre-wrap;\n",
       "}\n",
       "</style>\n",
       "<small>shape: (9, 10)</small><table border=\"1\" class=\"dataframe\"><thead><tr><th>describe</th><th>hex_id</th><th>count_date</th><th>day</th><th>time_indicator</th><th>resident</th><th>visitor</th><th>worker</th><th>loyalty_percentage</th><th>dwell_time</th></tr><tr><td>str</td><td>f64</td><td>str</td><td>str</td><td>str</td><td>f64</td><td>str</td><td>f64</td><td>str</td><td>f64</td></tr></thead><tbody><tr><td>&quot;count&quot;</td><td>395925.0</td><td>&quot;395925&quot;</td><td>&quot;395925&quot;</td><td>&quot;395925&quot;</td><td>395925.0</td><td>&quot;395925&quot;</td><td>395925.0</td><td>&quot;395925&quot;</td><td>395925.0</td></tr><tr><td>&quot;null_count&quot;</td><td>0.0</td><td>&quot;0&quot;</td><td>&quot;0&quot;</td><td>&quot;0&quot;</td><td>6814.0</td><td>&quot;29706&quot;</td><td>29258.0</td><td>&quot;19634&quot;</td><td>45.0</td></tr><tr><td>&quot;mean&quot;</td><td>1.1707e7</td><td>null</td><td>null</td><td>null</td><td>906.634194</td><td>null</td><td>266.033649</td><td>null</td><td>88.447101</td></tr><tr><td>&quot;std&quot;</td><td>48654.615448</td><td>null</td><td>null</td><td>null</td><td>517.972728</td><td>null</td><td>721.361615</td><td>null</td><td>23.908382</td></tr><tr><td>&quot;min&quot;</td><td>1.1611239e7</td><td>&quot;2023-01-01&quot;</td><td>&quot;Fri&quot;</td><td>&quot;00-03&quot;</td><td>9.0</td><td>&quot;-2.0&quot;</td><td>10.0</td><td>&quot;0.0&quot;</td><td>12.0</td></tr><tr><td>&quot;25%&quot;</td><td>1.1661254e7</td><td>null</td><td>null</td><td>null</td><td>536.0</td><td>null</td><td>52.0</td><td>null</td><td>70.57</td></tr><tr><td>&quot;50%&quot;</td><td>1.1711261e7</td><td>null</td><td>null</td><td>null</td><td>873.0</td><td>null</td><td>96.0</td><td>null</td><td>85.52</td></tr><tr><td>&quot;75%&quot;</td><td>1.174126e7</td><td>null</td><td>null</td><td>null</td><td>1231.0</td><td>null</td><td>204.0</td><td>null</td><td>105.9</td></tr><tr><td>&quot;max&quot;</td><td>1.1801242e7</td><td>&quot;2023-08-30&quot;</td><td>&quot;Wed&quot;</td><td>&quot;21-24&quot;</td><td>3787.0</td><td>&quot;9995.0&quot;</td><td>14531.0</td><td>&quot;9.99&quot;</td><td>180.0</td></tr></tbody></table></div>"
      ],
      "text/plain": [
       "shape: (9, 10)\n",
       "┌────────────┬────────────┬────────────┬────────┬───┬─────────┬────────────┬───────────┬───────────┐\n",
       "│ describe   ┆ hex_id     ┆ count_date ┆ day    ┆ … ┆ visitor ┆ worker     ┆ loyalty_p ┆ dwell_tim │\n",
       "│ ---        ┆ ---        ┆ ---        ┆ ---    ┆   ┆ ---     ┆ ---        ┆ ercentage ┆ e         │\n",
       "│ str        ┆ f64        ┆ str        ┆ str    ┆   ┆ str     ┆ f64        ┆ ---       ┆ ---       │\n",
       "│            ┆            ┆            ┆        ┆   ┆         ┆            ┆ str       ┆ f64       │\n",
       "╞════════════╪════════════╪════════════╪════════╪═══╪═════════╪════════════╪═══════════╪═══════════╡\n",
       "│ count      ┆ 395925.0   ┆ 395925     ┆ 395925 ┆ … ┆ 395925  ┆ 395925.0   ┆ 395925    ┆ 395925.0  │\n",
       "│ null_count ┆ 0.0        ┆ 0          ┆ 0      ┆ … ┆ 29706   ┆ 29258.0    ┆ 19634     ┆ 45.0      │\n",
       "│ mean       ┆ 1.1707e7   ┆ null       ┆ null   ┆ … ┆ null    ┆ 266.033649 ┆ null      ┆ 88.447101 │\n",
       "│ std        ┆ 48654.6154 ┆ null       ┆ null   ┆ … ┆ null    ┆ 721.361615 ┆ null      ┆ 23.908382 │\n",
       "│            ┆ 48         ┆            ┆        ┆   ┆         ┆            ┆           ┆           │\n",
       "│ min        ┆ 1.1611239e ┆ 2023-01-01 ┆ Fri    ┆ … ┆ -2.0    ┆ 10.0       ┆ 0.0       ┆ 12.0      │\n",
       "│            ┆ 7          ┆            ┆        ┆   ┆         ┆            ┆           ┆           │\n",
       "│ 25%        ┆ 1.1661254e ┆ null       ┆ null   ┆ … ┆ null    ┆ 52.0       ┆ null      ┆ 70.57     │\n",
       "│            ┆ 7          ┆            ┆        ┆   ┆         ┆            ┆           ┆           │\n",
       "│ 50%        ┆ 1.1711261e ┆ null       ┆ null   ┆ … ┆ null    ┆ 96.0       ┆ null      ┆ 85.52     │\n",
       "│            ┆ 7          ┆            ┆        ┆   ┆         ┆            ┆           ┆           │\n",
       "│ 75%        ┆ 1.174126e7 ┆ null       ┆ null   ┆ … ┆ null    ┆ 204.0      ┆ null      ┆ 105.9     │\n",
       "│ max        ┆ 1.1801242e ┆ 2023-08-30 ┆ Wed    ┆ … ┆ 9995.0  ┆ 14531.0    ┆ 9.99      ┆ 180.0     │\n",
       "│            ┆ 7          ┆            ┆        ┆   ┆         ┆            ┆           ┆           │\n",
       "└────────────┴────────────┴────────────┴────────┴───┴─────────┴────────────┴───────────┴───────────┘"
      ]
     },
     "execution_count": 8,
     "metadata": {},
     "output_type": "execute_result"
    }
   ],
   "source": [
    "hexes_2023.describe()"
   ]
  },
  {
   "cell_type": "code",
   "execution_count": 19,
   "metadata": {},
   "outputs": [],
   "source": [
    "# JOIN 2022 and 2023 DATA\n",
    "hexes: pl.DataFrame = hexes_2022.vstack(hexes_2023)"
   ]
  },
  {
   "cell_type": "code",
   "execution_count": 20,
   "metadata": {},
   "outputs": [
    {
     "data": {
      "text/html": [
       "<div><style>\n",
       ".dataframe > thead > tr > th,\n",
       ".dataframe > tbody > tr > td {\n",
       "  text-align: right;\n",
       "  white-space: pre-wrap;\n",
       "}\n",
       "</style>\n",
       "<small>shape: (9, 10)</small><table border=\"1\" class=\"dataframe\"><thead><tr><th>describe</th><th>hex_id</th><th>count_date</th><th>day</th><th>time_indicator</th><th>resident</th><th>visitor</th><th>worker</th><th>loyalty_percentage</th><th>dwell_time</th></tr><tr><td>str</td><td>f64</td><td>str</td><td>str</td><td>str</td><td>f64</td><td>f64</td><td>f64</td><td>f64</td><td>f64</td></tr></thead><tbody><tr><td>&quot;count&quot;</td><td>790768.0</td><td>&quot;790768&quot;</td><td>&quot;790768&quot;</td><td>&quot;790768&quot;</td><td>790768.0</td><td>790768.0</td><td>790768.0</td><td>790768.0</td><td>790768.0</td></tr><tr><td>&quot;null_count&quot;</td><td>0.0</td><td>&quot;0&quot;</td><td>&quot;0&quot;</td><td>&quot;0&quot;</td><td>16098.0</td><td>60460.0</td><td>58599.0</td><td>27629.0</td><td>113.0</td></tr><tr><td>&quot;mean&quot;</td><td>1.1707e7</td><td>null</td><td>null</td><td>null</td><td>892.729351</td><td>528.573929</td><td>261.58784</td><td>6.39198</td><td>91.511415</td></tr><tr><td>&quot;std&quot;</td><td>48654.919652</td><td>null</td><td>null</td><td>null</td><td>505.222218</td><td>777.285982</td><td>723.54522</td><td>5.345144</td><td>25.041643</td></tr><tr><td>&quot;min&quot;</td><td>1.1611239e7</td><td>&quot;2022-05-01&quot;</td><td>&quot;Fri&quot;</td><td>&quot;00-03&quot;</td><td>9.0</td><td>-2.0</td><td>10.0</td><td>0.0</td><td>11.25</td></tr><tr><td>&quot;25%&quot;</td><td>1.1661254e7</td><td>null</td><td>null</td><td>null</td><td>535.0</td><td>194.0</td><td>51.0</td><td>2.55</td><td>72.83</td></tr><tr><td>&quot;50%&quot;</td><td>1.1711259e7</td><td>null</td><td>null</td><td>null</td><td>864.0</td><td>320.0</td><td>96.0</td><td>5.12</td><td>88.42</td></tr><tr><td>&quot;75%&quot;</td><td>1.174126e7</td><td>null</td><td>null</td><td>null</td><td>1212.0</td><td>552.0</td><td>203.0</td><td>8.72</td><td>109.5</td></tr><tr><td>&quot;max&quot;</td><td>1.1801242e7</td><td>&quot;2023-08-30&quot;</td><td>&quot;Wed&quot;</td><td>&quot;21-24&quot;</td><td>3787.0</td><td>44415.0</td><td>19576.0</td><td>75.0</td><td>180.0</td></tr></tbody></table></div>"
      ],
      "text/plain": [
       "shape: (9, 10)\n",
       "┌────────────┬────────────┬───────────┬────────┬───┬───────────┬───────────┬───────────┬───────────┐\n",
       "│ describe   ┆ hex_id     ┆ count_dat ┆ day    ┆ … ┆ visitor   ┆ worker    ┆ loyalty_p ┆ dwell_tim │\n",
       "│ ---        ┆ ---        ┆ e         ┆ ---    ┆   ┆ ---       ┆ ---       ┆ ercentage ┆ e         │\n",
       "│ str        ┆ f64        ┆ ---       ┆ str    ┆   ┆ f64       ┆ f64       ┆ ---       ┆ ---       │\n",
       "│            ┆            ┆ str       ┆        ┆   ┆           ┆           ┆ f64       ┆ f64       │\n",
       "╞════════════╪════════════╪═══════════╪════════╪═══╪═══════════╪═══════════╪═══════════╪═══════════╡\n",
       "│ count      ┆ 790768.0   ┆ 790768    ┆ 790768 ┆ … ┆ 790768.0  ┆ 790768.0  ┆ 790768.0  ┆ 790768.0  │\n",
       "│ null_count ┆ 0.0        ┆ 0         ┆ 0      ┆ … ┆ 60460.0   ┆ 58599.0   ┆ 27629.0   ┆ 113.0     │\n",
       "│ mean       ┆ 1.1707e7   ┆ null      ┆ null   ┆ … ┆ 528.57392 ┆ 261.58784 ┆ 6.39198   ┆ 91.511415 │\n",
       "│            ┆            ┆           ┆        ┆   ┆ 9         ┆           ┆           ┆           │\n",
       "│ std        ┆ 48654.9196 ┆ null      ┆ null   ┆ … ┆ 777.28598 ┆ 723.54522 ┆ 5.345144  ┆ 25.041643 │\n",
       "│            ┆ 52         ┆           ┆        ┆   ┆ 2         ┆           ┆           ┆           │\n",
       "│ min        ┆ 1.1611239e ┆ 2022-05-0 ┆ Fri    ┆ … ┆ -2.0      ┆ 10.0      ┆ 0.0       ┆ 11.25     │\n",
       "│            ┆ 7          ┆ 1         ┆        ┆   ┆           ┆           ┆           ┆           │\n",
       "│ 25%        ┆ 1.1661254e ┆ null      ┆ null   ┆ … ┆ 194.0     ┆ 51.0      ┆ 2.55      ┆ 72.83     │\n",
       "│            ┆ 7          ┆           ┆        ┆   ┆           ┆           ┆           ┆           │\n",
       "│ 50%        ┆ 1.1711259e ┆ null      ┆ null   ┆ … ┆ 320.0     ┆ 96.0      ┆ 5.12      ┆ 88.42     │\n",
       "│            ┆ 7          ┆           ┆        ┆   ┆           ┆           ┆           ┆           │\n",
       "│ 75%        ┆ 1.174126e7 ┆ null      ┆ null   ┆ … ┆ 552.0     ┆ 203.0     ┆ 8.72      ┆ 109.5     │\n",
       "│ max        ┆ 1.1801242e ┆ 2023-08-3 ┆ Wed    ┆ … ┆ 44415.0   ┆ 19576.0   ┆ 75.0      ┆ 180.0     │\n",
       "│            ┆ 7          ┆ 0         ┆        ┆   ┆           ┆           ┆           ┆           │\n",
       "└────────────┴────────────┴───────────┴────────┴───┴───────────┴───────────┴───────────┴───────────┘"
      ]
     },
     "execution_count": 20,
     "metadata": {},
     "output_type": "execute_result"
    }
   ],
   "source": [
    "hexes.describe()\n"
   ]
  },
  {
   "cell_type": "code",
   "execution_count": 18,
   "metadata": {},
   "outputs": [],
   "source": [
    "# WRITE THE FILE READY FOR POWER BI TO READ\n",
    "hexes.write_csv(\"footfall-counts-bt/hex_3hourly_counts_2022_2023-lbth.csv\")"
   ]
  }
 ],
 "metadata": {
  "kernelspec": {
   "display_name": "hdrc",
   "language": "python",
   "name": "python3"
  },
  "language_info": {
   "codemirror_mode": {
    "name": "ipython",
    "version": 3
   },
   "file_extension": ".py",
   "mimetype": "text/x-python",
   "name": "python",
   "nbconvert_exporter": "python",
   "pygments_lexer": "ipython3",
   "version": "3.11.5"
  },
  "orig_nbformat": 4
 },
 "nbformat": 4,
 "nbformat_minor": 2
}
